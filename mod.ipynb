{
 "cells": [
  {
   "cell_type": "code",
   "execution_count": 4,
   "metadata": {},
   "outputs": [
    {
     "name": "stdout",
     "output_type": "stream",
     "text": [
      "[ \"name\", \"hunt\", \"gather\", \"meat\", \"apple\" ] [\n",
      "  [ \"name\", [ \"Lem\", \"Dol\", \"Heniye\" ] ],\n",
      "  [ \"hunt\", [ 4, 1, 2 ] ],\n",
      "  [ \"gather\", [ 1, 1, 3 ] ],\n",
      "  [ \"meat\", [ 163, 38, 75 ] ],\n",
      "  [ \"apple\", [ 0, 0, 0 ] ]\n",
      "]\n"
     ]
    },
    {
     "data": {
      "text/html": [
       "<table>\n",
       "    <tbody><tr>\n",
       "            <th>name</th>\n",
       "            <td>Lem</td>\n",
       "<td>Dol</td>\n",
       "<td>Heniye</td>\n",
       "        </tr>\n",
       "<tr>\n",
       "            <th>hunt</th>\n",
       "            <td>4</td>\n",
       "<td>1</td>\n",
       "<td>2</td>\n",
       "        </tr>\n",
       "<tr>\n",
       "            <th>gather</th>\n",
       "            <td>1</td>\n",
       "<td>1</td>\n",
       "<td>3</td>\n",
       "        </tr>\n",
       "<tr>\n",
       "            <th>meat</th>\n",
       "            <td>163</td>\n",
       "<td>38</td>\n",
       "<td>75</td>\n",
       "        </tr>\n",
       "<tr>\n",
       "            <th>apple</th>\n",
       "            <td>0</td>\n",
       "<td>0</td>\n",
       "<td>0</td>\n",
       "        </tr></tbody>\n",
       "</table>"
      ]
     },
     "execution_count": 4,
     "metadata": {},
     "output_type": "execute_result"
    }
   ],
   "source": [
    "import { DataFrame } from \"https://esm.sh/jandas@1.2.2\"\n",
    "\n",
    "const data = [\n",
    "    {name: \"Lem\", hunt: 4, gather: 1, meat: 163, apple: 0},\n",
    "    {name: \"Dol\", hunt: 1, gather: 1, meat: 38, apple: 0},\n",
    "    {name: \"Heniye\", hunt: 2, gather: 3, meat: 75, apple: 0},\n",
    "]\n",
    "\n",
    "const df = new DataFrame(\n",
    "    data\n",
    ")\n",
    "\n",
    "console.log(\n",
    "    df.columns.values,\n",
    "    df\n",
    "        .itercols()\n",
    "        .map(({col, key}) => [key, col.values])\n",
    "        .toArray(),\n",
    ")\n",
    "\n",
    "const render =\n",
    "<T>\n",
    "    (df: DataFrame<T>) => `<table>\n",
    "    <tbody>${df\n",
    "        .itercols()\n",
    "        .map(({key, col}) => `<tr>\n",
    "            <th>${key}</th>\n",
    "            ${col.values.map(v =>`<td>${v}</td>`).join(\"\\n\")}\n",
    "        </tr>`)\n",
    "        .toArray()\n",
    "        .join(\"\\n\")\n",
    "    }</tbody>\n",
    "</table>`\n",
    "\n",
    "Deno.jupyter.html`${render(df)}`"
   ]
  }
 ],
 "metadata": {
  "kernelspec": {
   "display_name": "Deno",
   "language": "typescript",
   "name": "deno"
  },
  "language_info": {
   "codemirror_mode": "typescript",
   "file_extension": ".ts",
   "mimetype": "text/x.typescript",
   "name": "typescript",
   "nbconvert_exporter": "script",
   "pygments_lexer": "typescript",
   "version": "5.6.2"
  }
 },
 "nbformat": 4,
 "nbformat_minor": 2
}
